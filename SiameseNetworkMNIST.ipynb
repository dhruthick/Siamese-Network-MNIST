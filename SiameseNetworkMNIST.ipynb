{
  "nbformat": 4,
  "nbformat_minor": 0,
  "metadata": {
    "colab": {
      "name": "SiameseNetworkMNIST.ipynb",
      "provenance": []
    },
    "kernelspec": {
      "name": "python3",
      "display_name": "Python 3"
    },
    "accelerator": "GPU"
  },
  "cells": [
    {
      "cell_type": "code",
      "metadata": {
        "id": "0UXTSVOg9raK"
      },
      "source": [
        "%matplotlib notebook\n",
        "import tensorflow as tf\n",
        "import matplotlib.pyplot as plt\n",
        "import numpy as np\n",
        "import random"
      ],
      "execution_count": 1,
      "outputs": []
    },
    {
      "cell_type": "code",
      "metadata": {
        "id": "QKQ-iE6E-CaP",
        "outputId": "91481f0b-e250-494d-a606-a7a2a3a3ad6c",
        "colab": {
          "base_uri": "https://localhost:8080/",
          "height": 107
        }
      },
      "source": [
        "(x_train,y_train),(x_test,y_test)=tf.keras.datasets.mnist.load_data()\n",
        "print(x_train.shape)\n",
        "print(x_test.shape)"
      ],
      "execution_count": 2,
      "outputs": [
        {
          "output_type": "stream",
          "text": [
            "Downloading data from https://storage.googleapis.com/tensorflow/tf-keras-datasets/mnist.npz\n",
            "11493376/11490434 [==============================] - 0s 0us/step\n",
            "(60000, 28, 28)\n",
            "(10000, 28, 28)\n"
          ],
          "name": "stdout"
        }
      ]
    },
    {
      "cell_type": "markdown",
      "metadata": {
        "id": "lv9nMh_UBXtb"
      },
      "source": [
        "Reshaping and normalization"
      ]
    },
    {
      "cell_type": "code",
      "metadata": {
        "id": "oYVMK1Rx-IQ5",
        "outputId": "95f572df-cfb3-459f-98b8-6e35070638c0",
        "colab": {
          "base_uri": "https://localhost:8080/",
          "height": 52
        }
      },
      "source": [
        "x_train=np.reshape(x_train,(60000,784))/255.\n",
        "x_test=np.reshape(x_test,(10000,784))/255.\n",
        "print(x_train.shape)\n",
        "print(x_test.shape)"
      ],
      "execution_count": 3,
      "outputs": [
        {
          "output_type": "stream",
          "text": [
            "(60000, 784)\n",
            "(10000, 784)\n"
          ],
          "name": "stdout"
        }
      ]
    },
    {
      "cell_type": "markdown",
      "metadata": {
        "id": "qhkIMO-kErZD"
      },
      "source": [
        "Function to plot triplets"
      ]
    },
    {
      "cell_type": "code",
      "metadata": {
        "id": "wQvoS5EWBTSS"
      },
      "source": [
        "def plot_triplet(triplet):\n",
        "  plt.figure(figsize=(6,2))\n",
        "  for i in range(0,3):\n",
        "    plt.subplot(1,3,i+1)\n",
        "    plt.imshow(np.reshape(triplet[i],(28,28)),cmap='binary')\n",
        "    plt.xticks([])\n",
        "    plt.yticks([])\n",
        "  plt.show()"
      ],
      "execution_count": 14,
      "outputs": []
    },
    {
      "cell_type": "code",
      "metadata": {
        "id": "IuZ0h6aQCbbC",
        "outputId": "9c27fdab-715a-48ea-b5e5-4a3fe928cf14",
        "colab": {
          "base_uri": "https://localhost:8080/",
          "height": 133
        }
      },
      "source": [
        "plot_triplet([x_train[0],x_train[1],x_train[2]])"
      ],
      "execution_count": 15,
      "outputs": [
        {
          "output_type": "display_data",
          "data": {
            "image/png": "[encoded data removed]",
            "text/plain": [
              "<Figure size 432x144 with 3 Axes>"
            ]
          },
          "metadata": {
            "tags": []
          }
        }
      ]
    },
    {
      "cell_type": "markdown",
      "metadata": {
        "id": "QIwhNLO0IVQJ"
      },
      "source": [
        "Creating triplets"
      ]
    },
    {
      "cell_type": "code",
      "metadata": {
        "id": "knPeQzaPCjaW"
      },
      "source": [
        "def create_batch(batch_size):\n",
        "  anchors=np.zeros((batch_size,784))\n",
        "  positives=np.zeros((batch_size,784))\n",
        "  negatives=np.zeros((batch_size,784))\n",
        "  for i in range(0,batch_size):\n",
        "    index=random.randint(0,60000-1)\n",
        "    anchors[i]=x_train[index]\n",
        "    y=y_train[index]\n",
        "    positive_indices=np.squeeze(np.where(y_train==y))\n",
        "    negative_indices=np.squeeze(np.where(y_train!=y))\n",
        "    positives[i]=x_train[positive_indices[random.randint(0,len(positive_indices)-1)]]\n",
        "    negatives[i]=x_train[negative_indices[random.randint(0,len(negative_indices)-1)]]\n",
        "  return [anchors,positives,negatives]"
      ],
      "execution_count": 21,
      "outputs": []
    },
    {
      "cell_type": "code",
      "metadata": {
        "id": "4jLJ_jhRH69l",
        "outputId": "9ab3755e-1bca-4669-8a2e-6c9d5cf585cd",
        "colab": {
          "base_uri": "https://localhost:8080/",
          "height": 133
        }
      },
      "source": [
        "plot_triplet(create_batch(1))"
      ],
      "execution_count": 25,
      "outputs": [
        {
          "output_type": "display_data",
          "data": {
            "image/png": "[encoded data removed]",
            "text/plain": [
              "<Figure size 432x144 with 3 Axes>"
            ]
          },
          "metadata": {
            "tags": []
          }
        }
      ]
    },
    {
      "cell_type": "markdown",
      "metadata": {
        "id": "rZoPHlcOLQtH"
      },
      "source": [
        "A simple neural network for embedding"
      ]
    },
    {
      "cell_type": "code",
      "metadata": {
        "id": "FFilVYerICIs",
        "outputId": "075ca2e3-1711-47d5-876e-166e3e5ab7c2",
        "colab": {
          "base_uri": "https://localhost:8080/",
          "height": 228
        }
      },
      "source": [
        "emb_dim=64\n",
        "embedding_model=tf.keras.models.Sequential([\n",
        "                                            tf.keras.layers.Dense(64,activation='relu',input_shape=(784,)),\n",
        "                                            tf.keras.layers.Dense(emb_dim,activation='sigmoid')\n",
        "])\n",
        "embedding_model.summary()"
      ],
      "execution_count": 27,
      "outputs": [
        {
          "output_type": "stream",
          "text": [
            "Model: \"sequential\"\n",
            "_________________________________________________________________\n",
            "Layer (type)                 Output Shape              Param #   \n",
            "=================================================================\n",
            "dense (Dense)                (None, 64)                50240     \n",
            "_________________________________________________________________\n",
            "dense_1 (Dense)              (None, 64)                4160      \n",
            "=================================================================\n",
            "Total params: 54,400\n",
            "Trainable params: 54,400\n",
            "Non-trainable params: 0\n",
            "_________________________________________________________________\n"
          ],
          "name": "stdout"
        }
      ]
    },
    {
      "cell_type": "code",
      "metadata": {
        "id": "PzgoyYAWJGYq",
        "outputId": "2a55eb91-4614-417d-a408-537c418448f8",
        "colab": {
          "base_uri": "https://localhost:8080/",
          "height": 211
        }
      },
      "source": [
        "example_emb=embedding_model.predict(np.expand_dims(x_train[0],axis=0))[0]\n",
        "print(example_emb)"
      ],
      "execution_count": 28,
      "outputs": [
        {
          "output_type": "stream",
          "text": [
            "[0.60305667 0.4596309  0.4917099  0.62034076 0.4365832  0.37091592\n",
            " 0.4893782  0.48445165 0.5888337  0.47345856 0.62621963 0.42387944\n",
            " 0.3942499  0.57659847 0.4828853  0.5788227  0.40397495 0.36668876\n",
            " 0.5110942  0.52154547 0.44403887 0.4896294  0.4790429  0.51135963\n",
            " 0.44863674 0.5605141  0.56980586 0.5471463  0.3872272  0.49509498\n",
            " 0.45117217 0.5431652  0.36918798 0.39491314 0.48758522 0.4196718\n",
            " 0.40287095 0.642678   0.3862845  0.4965592  0.5735239  0.41218486\n",
            " 0.45793805 0.44866097 0.44115257 0.54718804 0.5909255  0.41723055\n",
            " 0.4423132  0.5265818  0.52910346 0.4781664  0.55941695 0.38083544\n",
            " 0.50534207 0.6494209  0.5406699  0.5275402  0.4106305  0.57585806\n",
            " 0.46936765 0.59937704 0.45755988 0.52398807]\n"
          ],
          "name": "stdout"
        }
      ]
    },
    {
      "cell_type": "markdown",
      "metadata": {
        "id": "Nm-ypk_9L8LS"
      },
      "source": [
        "Building the Siamese network"
      ]
    },
    {
      "cell_type": "code",
      "metadata": {
        "id": "n3_IP9hOJsvV",
        "outputId": "1274855a-82d0-40a3-c1de-23bdf1384d76",
        "colab": {
          "base_uri": "https://localhost:8080/",
          "height": 404
        }
      },
      "source": [
        "input_anc=tf.keras.layers.Input(shape=(784,))\n",
        "input_pos=tf.keras.layers.Input(shape=(784,))\n",
        "input_neg=tf.keras.layers.Input(shape=(784,))\n",
        "embedding_anc=embedding_model(input_anc)\n",
        "embedding_pos=embedding_model(input_pos)\n",
        "embedding_neg=embedding_model(input_neg)\n",
        "output=tf.keras.layers.concatenate([embedding_anc,embedding_pos,embedding_neg],axis=1)\n",
        "network=tf.keras.models.Model(\n",
        "    [input_anc,input_pos,input_neg],\n",
        "    output\n",
        ")\n",
        "network.summary()"
      ],
      "execution_count": 33,
      "outputs": [
        {
          "output_type": "stream",
          "text": [
            "Model: \"functional_1\"\n",
            "__________________________________________________________________________________________________\n",
            "Layer (type)                    Output Shape         Param #     Connected to                     \n",
            "==================================================================================================\n",
            "input_13 (InputLayer)           [(None, 784)]        0                                            \n",
            "__________________________________________________________________________________________________\n",
            "input_14 (InputLayer)           [(None, 784)]        0                                            \n",
            "__________________________________________________________________________________________________\n",
            "input_15 (InputLayer)           [(None, 784)]        0                                            \n",
            "__________________________________________________________________________________________________\n",
            "sequential (Sequential)         (None, 64)           54400       input_13[0][0]                   \n",
            "                                                                 input_14[0][0]                   \n",
            "                                                                 input_15[0][0]                   \n",
            "__________________________________________________________________________________________________\n",
            "concatenate_1 (Concatenate)     (None, 192)          0           sequential[11][0]                \n",
            "                                                                 sequential[12][0]                \n",
            "                                                                 sequential[13][0]                \n",
            "==================================================================================================\n",
            "Total params: 54,400\n",
            "Trainable params: 54,400\n",
            "Non-trainable params: 0\n",
            "__________________________________________________________________________________________________\n"
          ],
          "name": "stdout"
        }
      ]
    },
    {
      "cell_type": "markdown",
      "metadata": {
        "id": "Negu7zxGPuS4"
      },
      "source": [
        "Defining the triplet loss and data genertaor"
      ]
    },
    {
      "cell_type": "code",
      "metadata": {
        "id": "pQ8AznHBLOim"
      },
      "source": [
        "def triplet_loss(alpha,emb_dim):\n",
        "  def loss(y_true,y_pred):\n",
        "    anc,pos,neg=y_pred[:,:emb_dim],y_pred[:,emb_dim:2*emb_dim],y_pred[:,2*emb_dim:]\n",
        "    dp=tf.reduce_mean(tf.square(anc-pos),axis=1)\n",
        "    dn=tf.reduce_mean(tf.square(anc-neg),axis=1)\n",
        "    return tf.maximum(dp-dn+alpha,0.)\n",
        "  return loss"
      ],
      "execution_count": 34,
      "outputs": []
    },
    {
      "cell_type": "code",
      "metadata": {
        "id": "5umzZw3yPC9f"
      },
      "source": [
        "def data_generator(batch_size,emb_dim):\n",
        "  while True:\n",
        "    x=create_batch(batch_size)\n",
        "    y=np.zeros((batch_size,3*emb_dim))\n",
        "    yield x,y"
      ],
      "execution_count": 35,
      "outputs": []
    },
    {
      "cell_type": "markdown",
      "metadata": {
        "id": "ZFRmfxCLRS-J"
      },
      "source": [
        "Compile and train"
      ]
    },
    {
      "cell_type": "code",
      "metadata": {
        "id": "suvwE_L1Pq8k"
      },
      "source": [
        "batch_size=1024\n",
        "epochs=10\n",
        "steps_per_epoch=int(60000/batch_size)\n",
        "network.compile(loss=triplet_loss(alpha=0.2,emb_dim=emb_dim),optimizer='adam')"
      ],
      "execution_count": 36,
      "outputs": []
    },
    {
      "cell_type": "code",
      "metadata": {
        "id": "i_lW-ESJRzFW",
        "outputId": "286ae6c2-2fae-4fb8-d027-02b2ed18ceda",
        "colab": {
          "base_uri": "https://localhost:8080/",
          "height": 369
        }
      },
      "source": [
        "history=network.fit(\n",
        "    data_generator(batch_size,emb_dim),\n",
        "    epochs=epochs,\n",
        "    steps_per_epoch=steps_per_epoch,\n",
        "    verbose=True\n",
        ")"
      ],
      "execution_count": 38,
      "outputs": [
        {
          "output_type": "stream",
          "text": [
            "Epoch 1/10\n",
            "58/58 [==============================] - 25s 430ms/step - loss: 0.1210\n",
            "Epoch 2/10\n",
            "58/58 [==============================] - 25s 434ms/step - loss: 0.0539\n",
            "Epoch 3/10\n",
            "58/58 [==============================] - 25s 433ms/step - loss: 0.0421\n",
            "Epoch 4/10\n",
            "58/58 [==============================] - 25s 432ms/step - loss: 0.0357\n",
            "Epoch 5/10\n",
            "58/58 [==============================] - 25s 431ms/step - loss: 0.0315\n",
            "Epoch 6/10\n",
            "58/58 [==============================] - 25s 431ms/step - loss: 0.0288\n",
            "Epoch 7/10\n",
            "58/58 [==============================] - 25s 432ms/step - loss: 0.0263\n",
            "Epoch 8/10\n",
            "58/58 [==============================] - 25s 428ms/step - loss: 0.0249\n",
            "Epoch 9/10\n",
            "58/58 [==============================] - 25s 434ms/step - loss: 0.0229\n",
            "Epoch 10/10\n",
            "58/58 [==============================] - 25s 438ms/step - loss: 0.0216\n"
          ],
          "name": "stdout"
        }
      ]
    },
    {
      "cell_type": "code",
      "metadata": {
        "id": "7vsEZz9QSCkH",
        "outputId": "9a4de494-b814-49ff-f71b-dd4ad07c0802",
        "colab": {
          "base_uri": "https://localhost:8080/",
          "height": 281
        }
      },
      "source": [
        "loss=history.history['loss']\n",
        "epochs=range(len(loss))\n",
        "plt.plot(epochs,loss,'b',label='trianing loss')\n",
        "plt.title('Training loss')\n",
        "plt.legend()\n",
        "plt.show()"
      ],
      "execution_count": 40,
      "outputs": [
        {
          "output_type": "display_data",
          "data": {
            "image/png": "[encoded data removed]",
            "text/plain": [
              "<Figure size 432x288 with 1 Axes>"
            ]
          },
          "metadata": {
            "tags": [],
            "needs_background": "light"
          }
        }
      ]
    },
    {
      "cell_type": "code",
      "metadata": {
        "id": "Seef6DrXS1QX"
      },
      "source": [
        ""
      ],
      "execution_count": null,
      "outputs": []
    }
  ]
}